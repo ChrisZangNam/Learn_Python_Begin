{
 "cells": [
  {
   "cell_type": "markdown",
   "metadata": {},
   "source": [
    "# Xây dựng mô hình Linear Regression"
   ]
  },
  {
   "cell_type": "markdown",
   "metadata": {},
   "source": [
    "Trong bài viết này, các nội dung sẽ được trình bày trong ví dụ xây dựn model Linear Regression với Tensorflow"
   ]
  },
  {
   "attachments": {
    "bieu-dien-du-lieu.png": {
     "image/png": "[encoded data removed]"
    }
   },
   "cell_type": "markdown",
   "metadata": {},
   "source": [
    "_**Yêu cầu đề bài:**_\n",
    "\n",
    "Bạn có một tập dữ liệu thể hiện giá của căn hộ(y) và diện tích của căn hộ đó(x). Và công việc chúng ta cần làm là làm sao ta có thể dự đoán giá của một căn hộ bất kỳ khi biết diện tích của nó.\n",
    "\n",
    "Trong phần này, để cho đơn giản mình sẽ sử dụng một tập dữ liệu mà trong đó mỗi điểm dữ liệu gồm 2 giá trị x và y. Ta cần đi tìm hàm `y = W * x + b` biểu diễn mối liên hệ giữa x và y dựa trên tệp dữ liệu này. Mục tiêu là khi có x mới, chúng ta có thể tìm/dự đoán y thông qua biểu diễn này.\n",
    "\n",
    "Đât là biểu diễn của dữ liệu huấn luyện trên không gian 2 chiều: \n",
    "\n",
    "![bieu-dien-du-lieu.png](attachment:bieu-dien-du-lieu.png)"
   ]
  },
  {
   "cell_type": "markdown",
   "metadata": {},
   "source": [
    "## Xây dựng Graph"
   ]
  },
  {
   "cell_type": "code",
   "execution_count": 1,
   "metadata": {},
   "outputs": [],
   "source": [
    "import numpy as np\n",
    "import matplotlib.pyplot as plt\n",
    "import tensorflow as tf"
   ]
  },
  {
   "cell_type": "markdown",
   "metadata": {},
   "source": [
    "Giả sử input của chúng ta như sau:"
   ]
  },
  {
   "cell_type": "code",
   "execution_count": 2,
   "metadata": {},
   "outputs": [],
   "source": [
    "X_train = np.asarray([3.3, 4.4, 5.5, 6.71, 6.93, 4.168, 9.779, 6.182, 7.59, 2.167,\n",
    "                      7.042, 10.791, 5.313, 7.997, 5.654, 9.27, 3.1])\n",
    "Y_train = np.asarray([1.7, 2.76, 2.09, 3.19, 1.694, 1.573, 3.366, 2.596, 2.53, 1.221,\n",
    "                      2.827, 3.465, 1.65, 2.904, 2.42, 2.94, 1.3])\n",
    "n_samples = X_train.shape[0] #Lấy số lượng mẫu training"
   ]
  },
  {
   "cell_type": "markdown",
   "metadata": {},
   "source": [
    "Bây giờ chúng ta sẽ tạo 2 vị trí là `placeholder` bên trong `X` là dữ liệu và `Y` là nhãn của dữ liệu để  truyền vào `X_train` và `Y_train` tương ứng trong session\n",
    "\n",
    "Sử dụng `placeholder` giúp ta có thể truyền vào các mẫu dữ liệu huấn luyện khác nhau.(tương tự như việc truyền tham số vào hàm, viết 1 lần dùng được nhiều lần)"
   ]
  },
  {
   "cell_type": "code",
   "execution_count": 3,
   "metadata": {},
   "outputs": [],
   "source": [
    "X = tf.placeholder(tf.float32, name='X')\n",
    "Y = tf.placeholder(tf.float32, name='Y')"
   ]
  },
  {
   "cell_type": "markdown",
   "metadata": {},
   "source": [
    "Linear model của chungs ta có dạng `y = w*x + b`. Trong đó `w` và `b` là 2 tham số ta cần tìm. Hai tham số này sẽ thay đổi để tối ưu mất mát trong quá trình huấn luyện. Do đó, chúng ta sẽ khai báo chúng sử dụng `tf.Variable` và khởi tạo hai biến này bằng 0."
   ]
  },
  {
   "cell_type": "code",
   "execution_count": 4,
   "metadata": {},
   "outputs": [],
   "source": [
    "w = tf.get_variable('weights', initializer=tf.constant(0.0))\n",
    "b = tf.get_variable('bias', initializer=tf.constant(0.0))"
   ]
  },
  {
   "cell_type": "markdown",
   "metadata": {},
   "source": [
    "Khi đó model dự đoán:"
   ]
  },
  {
   "cell_type": "code",
   "execution_count": 5,
   "metadata": {},
   "outputs": [],
   "source": [
    "Y_predicted = w*X + b"
   ]
  },
  {
   "cell_type": "markdown",
   "metadata": {},
   "source": [
    "Để biết `w` hay `b` đã thực sự tốt, chúng ta cần đánh giá thông qua hàm được gọi là `loss/cost function` - hàm mất mát. Hàm mất máy được đánh giá bằng bình phương độ chênh lệch giữa kết quả thực tế và kết quả dự đoán."
   ]
  },
  {
   "cell_type": "code",
   "execution_count": 7,
   "metadata": {},
   "outputs": [],
   "source": [
    "loss = tf.square(Y_predicted - Y, name='loss')"
   ]
  },
  {
   "cell_type": "markdown",
   "metadata": {},
   "source": [
    "Mục tiêu là tìm `w` và `b` sao cho `loss` cực tiểu. Ở đây, tôi sẽ dùng `Gradient Descent Optimizer` của TF để cực tiểu hóa hàm `loss`."
   ]
  },
  {
   "cell_type": "code",
   "execution_count": 8,
   "metadata": {},
   "outputs": [],
   "source": [
    "optimizer = tf.train.GradientDescentOptimizer(learning_rate=0.001).minimize(loss)"
   ]
  },
  {
   "cell_type": "markdown",
   "metadata": {},
   "source": [
    "Để xem lại đồ thị của TF vừa xây dựng trên tensorboard. Ta thực hiện dòng lệnh sau:"
   ]
  },
  {
   "cell_type": "code",
   "execution_count": 10,
   "metadata": {},
   "outputs": [],
   "source": [
    "writer = tf.summary.FileWriter('./graphs', tf.get_default_graph())"
   ]
  },
  {
   "cell_type": "markdown",
   "metadata": {},
   "source": [
    "## Thực thi trên Graph"
   ]
  },
  {
   "cell_type": "markdown",
   "metadata": {},
   "source": [
    "Chúng ta cần khởi tạo 1 Session và khởi tạo các `Variable` trước khi thực thi. Chúng ta sẽ run operation `optimizer` đồng thời tính toán giá trị `loss` để theo dõi sự thay đổi.\n",
    "\n",
    "Do việc run `optimizer` phụ thộc vào 2 `placeholder` là `X` và `Y` nên ta cần truyền vào trong quá trình run: `sess.run([optimizer, loss], feed_dict={X: x, Y:y})`\n",
    "\n",
    "Ở đây chúng ta sẽ chạy trong 100 epoch với batch_size là 1(đưa lần lượt từng mẫu huấn luyện vào)"
   ]
  },
  {
   "cell_type": "code",
   "execution_count": 12,
   "metadata": {},
   "outputs": [
    {
     "name": "stdout",
     "output_type": "stream",
     "text": [
      "Epoch 0: 2.248045200810713\n",
      "Epoch 1: 0.3378809356106692\n",
      "Epoch 2: 0.2469177870079875\n",
      "Epoch 3: 0.23914439601289547\n",
      "Epoch 4: 0.2375310324029723\n",
      "Epoch 5: 0.23674188743461855\n",
      "Epoch 6: 0.23610148448428578\n",
      "Epoch 7: 0.23549330988487996\n",
      "Epoch 8: 0.2348954783999087\n",
      "Epoch 9: 0.2343036914612372\n",
      "Epoch 10: 0.23371719465478022\n",
      "Epoch 11: 0.23313567870525945\n",
      "Epoch 12: 0.23255908454645097\n",
      "Epoch 13: 0.23198741918552995\n",
      "Epoch 14: 0.2314205982744598\n",
      "Epoch 15: 0.23085863333964132\n",
      "Epoch 16: 0.23030144894843996\n",
      "Epoch 17: 0.2297490283862691\n",
      "Epoch 18: 0.2292012573856054\n",
      "Epoch 19: 0.22865817209666978\n",
      "Epoch 20: 0.2281197200217695\n",
      "Epoch 21: 0.22758582386419382\n",
      "Epoch 22: 0.22705652834353718\n",
      "Epoch 23: 0.22653162549801542\n",
      "Epoch 24: 0.22601124849809232\n",
      "Epoch 25: 0.22549525161021472\n",
      "Epoch 26: 0.22498377539116465\n",
      "Epoch 27: 0.2244765704804997\n",
      "Epoch 28: 0.2239736948726846\n",
      "Epoch 29: 0.22347510270628845\n",
      "Epoch 30: 0.22298068089987602\n",
      "Epoch 31: 0.22249055867424056\n",
      "Epoch 32: 0.22200459358282387\n",
      "Epoch 33: 0.2215227717790506\n",
      "Epoch 34: 0.22104498009224804\n",
      "Epoch 35: 0.22057132681520136\n",
      "Epoch 36: 0.22010168544211944\n",
      "Epoch 37: 0.21963605223401614\n",
      "Epoch 38: 0.21917436006205046\n",
      "Epoch 39: 0.21871661230312278\n",
      "Epoch 40: 0.21826273740632185\n",
      "Epoch 41: 0.2178127344523091\n",
      "Epoch 42: 0.21736658862894676\n",
      "Epoch 43: 0.2169242338414359\n",
      "Epoch 44: 0.2164856054861208\n",
      "Epoch 45: 0.21605072776882855\n",
      "Epoch 46: 0.2156195894212407\n",
      "Epoch 47: 0.21519212462418877\n",
      "Epoch 48: 0.21476824461783775\n",
      "Epoch 49: 0.2143480197786737\n",
      "Epoch 50: 0.21393137674449997\n",
      "Epoch 51: 0.21351820526829482\n",
      "Epoch 52: 0.21310866213752888\n",
      "Epoch 53: 0.2127025397545795\n",
      "Epoch 54: 0.21229990516097613\n",
      "Epoch 55: 0.21190061608521157\n",
      "Epoch 56: 0.21150483177488616\n",
      "Epoch 57: 0.21111235042061546\n",
      "Epoch 58: 0.21072324279521126\n",
      "Epoch 59: 0.21033745250829003\n",
      "Epoch 60: 0.2099549675870495\n",
      "Epoch 61: 0.20957568830036669\n",
      "Epoch 62: 0.2091996395679684\n",
      "Epoch 63: 0.2088267769697054\n",
      "Epoch 64: 0.20845711277113022\n",
      "Epoch 65: 0.20809067783514312\n",
      "Epoch 66: 0.20772727300123628\n",
      "Epoch 67: 0.20736704322317726\n",
      "Epoch 68: 0.2070097557208261\n",
      "Epoch 69: 0.20665563983022686\n",
      "Epoch 70: 0.20630448677590774\n",
      "Epoch 71: 0.20595629727348055\n",
      "Epoch 72: 0.2056110674429339\n",
      "Epoch 73: 0.20526881843932857\n",
      "Epoch 74: 0.20492942672139822\n",
      "Epoch 75: 0.20459308401576196\n",
      "Epoch 76: 0.20425946431029895\n",
      "Epoch 77: 0.20392869904186656\n",
      "Epoch 78: 0.20360077693037645\n",
      "Epoch 79: 0.2032756443890428\n",
      "Epoch 80: 0.2029532452718687\n",
      "Epoch 81: 0.20263361050584697\n",
      "Epoch 82: 0.20231674816156608\n",
      "Epoch 83: 0.2020025715483986\n",
      "Epoch 84: 0.20169104916590186\n",
      "Epoch 85: 0.20138214834324733\n",
      "Epoch 86: 0.20107597660982304\n",
      "Epoch 87: 0.20077231877587232\n",
      "Epoch 88: 0.20047127596756262\n",
      "Epoch 89: 0.20017281297323813\n",
      "Epoch 90: 0.19987688107391263\n",
      "Epoch 91: 0.1995834725493403\n",
      "Epoch 92: 0.19929253953978332\n",
      "Epoch 93: 0.19900410706606955\n",
      "Epoch 94: 0.19871820352973907\n",
      "Epoch 95: 0.1984346769776333\n",
      "Epoch 96: 0.19815353270014918\n",
      "Epoch 97: 0.19787478785495777\n",
      "Epoch 98: 0.19759847743369072\n",
      "Epoch 99: 0.1973244665958405\n"
     ]
    }
   ],
   "source": [
    "with tf.Session() as sess:\n",
    "    # Step 7: initialize the necessary variables, in this case, w and b\n",
    "    sess.run(tf.global_variables_initializer())\n",
    "    \n",
    "    for i in range(100):\n",
    "        total_loss = 0\n",
    "        for x, y in zip(X_train, Y_train):\n",
    "            #Session excute optimizer and fetch values of loss\n",
    "            _, _loss = sess.run([optimizer, loss], feed_dict={X:x, Y:y})\n",
    "            total_loss += _loss\n",
    "        print('Epoch {0}: {1}'.format(i, total_loss/n_samples))\n",
    "        \n",
    "\n",
    "        "
   ]
  },
  {
   "cell_type": "markdown",
   "metadata": {},
   "source": [
    "Như vậy, sau mỗi vòng lặp, giá trị mất mát `loss` ngày càng giảm và tuwong đối nhỏ. chứng tỏ model của chúng ta hoạt động tương đối khá.\n",
    "\n",
    "Sau khi train xong bạn có thể lấy giá trị của `w` và `b` bằng cách: "
   ]
  },
  {
   "cell_type": "code",
   "execution_count": null,
   "metadata": {},
   "outputs": [],
   "source": [
    "w_out, b_out = sess.run([w,b])"
   ]
  },
  {
   "cell_type": "code",
   "execution_count": 13,
   "metadata": {},
   "outputs": [],
   "source": [
    "with tf.Session() as sess:\n",
    "    # Step 7: initialize the necessary variables, in this case, w and b\n",
    "    sess.run(tf.global_variables_initializer())\n",
    "    \n",
    "    for i in range(100):\n",
    "        total_loss = 0\n",
    "        for x, y in zip(X_train, Y_train):\n",
    "            #Session excute optimizer and fetch values of loss\n",
    "            _, _loss = sess.run([optimizer, loss], feed_dict={X:x, Y:y})\n",
    "            total_loss += _loss\n",
    "        #print('Epoch {0}: {1}'.format(i, total_loss/n_samples))\n",
    "    w_out, b_out = sess.run([w,b]) \n",
    "    "
   ]
  },
  {
   "cell_type": "markdown",
   "metadata": {},
   "source": [
    "Lấy kết quả dự đoán của tất cả các mẫu huấn luyện:"
   ]
  },
  {
   "cell_type": "code",
   "execution_count": 14,
   "metadata": {},
   "outputs": [],
   "source": [
    "Y_pred = X_train*w_out + b_out"
   ]
  },
  {
   "cell_type": "markdown",
   "metadata": {},
   "source": [
    "So sánh kết quả dự đoán và kết quả thực tế(bên phải):"
   ]
  },
  {
   "cell_type": "code",
   "execution_count": 17,
   "metadata": {},
   "outputs": [
    {
     "name": "stdout",
     "output_type": "stream",
     "text": [
      "1.3422471672296523  |    1.7\n",
      "1.6853130280971529  |   2.76\n",
      "2.028378888964653   |   2.09\n",
      "2.4057513359189033  |   3.19\n",
      "2.4743645080924033  |  1.694\n",
      "1.6129573192596436  |  1.573\n",
      "3.3629050877392292  |  3.366\n",
      "2.241079722702503   |  2.596\n",
      "2.6802040246129035  |   2.53\n",
      "0.988889330536127   |  1.221\n",
      "2.5092948502898214  |  2.827\n",
      "3.6785256797373296  |  3.465\n",
      "1.9700576926171778  |   1.65\n",
      "2.8071383931338785  |  2.904\n",
      "2.076408109486103   |   2.42\n",
      "3.2041591575741766  |   2.94\n",
      "1.2798715561628342  |    1.3\n"
     ]
    }
   ],
   "source": [
    "for i, j in zip(Y_pred, Y_train):\n",
    "    print('{:<20}|{:>7}'.format(i,j))"
   ]
  },
  {
   "cell_type": "markdown",
   "metadata": {},
   "source": [
    "Vẽ đồ thị biểu diễn model(sử dụng thư viện matplotlib):"
   ]
  },
  {
   "cell_type": "code",
   "execution_count": 27,
   "metadata": {},
   "outputs": [
    {
     "data": {
      "image/png": "[encoded data removed]",
      "text/plain": [
       "<Figure size 432x288 with 1 Axes>"
      ]
     },
     "metadata": {
      "needs_background": "light"
     },
     "output_type": "display_data"
    }
   ],
   "source": [
    "plt.scatter(list(X_train), list(Y_train),s=20, label='Real data')\n",
    "plt.plot(X_train, Y_pred, '-r', label='Predicted')\n",
    "\n",
    "plt.xlabel('x')\n",
    "plt.legend()\n",
    "\n",
    "plt.show()"
   ]
  },
  {
   "attachments": {
    "bieu-dien-graph-tren-tensorboard.png": {
     "image/png": "[encoded data removed]"
    }
   },
   "cell_type": "markdown",
   "metadata": {},
   "source": [
    "Hình ảnh model trên tensorboard:\n",
    "![bieu-dien-graph-tren-tensorboard.png](attachment:bieu-dien-graph-tren-tensorboard.png)"
   ]
  },
  {
   "cell_type": "markdown",
   "metadata": {},
   "source": [
    "## Tài liệu tham khảo\n",
    "\n",
    "[Xây dựng mô hình Linear Regression - nguyenvanhieu.vn](https://nguyenvanhieu.vn/xay-dung-mo-hinh-linear-regression/)"
   ]
  }
 ],
 "metadata": {
  "kernelspec": {
   "display_name": "Python 3",
   "language": "python",
   "name": "python3"
  },
  "language_info": {
   "codemirror_mode": {
    "name": "ipython",
    "version": 3
   },
   "file_extension": ".py",
   "mimetype": "text/x-python",
   "name": "python",
   "nbconvert_exporter": "python",
   "pygments_lexer": "ipython3",
   "version": "3.7.3"
  }
 },
 "nbformat": 4,
 "nbformat_minor": 2
}
