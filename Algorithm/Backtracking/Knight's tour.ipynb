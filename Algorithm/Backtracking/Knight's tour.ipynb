{
 "cells": [
  {
   "cell_type": "markdown",
   "metadata": {},
   "source": [
    "# The Knight’s tour problem using Backtracking Algorithm"
   ]
  },
  {
   "cell_type": "markdown",
   "metadata": {},
   "source": [
    "#### _Bài toán:_\n",
    "Tìm đường cho con Mã đi hết các ô trên một bàn cờ vua, mà với mỗi vị trí con Mã chỉ đi qua đúng 1 lần.\n",
    "<img src=\"https://raw.githubusercontent.com/bangoc123/learn-machine-learning-in-two-months/master/algorithms/imgs/Knights-Tour-Animation.gif\">\n",
    "\n",
    "#### _Ý tưởng:_\n",
    "Sử dụng Backtracking, khi gặp 2 lựa chọn cho đường đi của con Mã, bạn sẽ chọn 1 trong 2, nếu đường đi đó là đường cụt thì phải quay lui lại đi đường thứ còn lại.\n",
    "Hình ảnh mô tả thuật toán trên như sau:\n",
    "\n",
    "<img src=\"https://raw.githubusercontent.com/bangoc123/learn-machine-learning-in-two-months/master/algorithms/imgs/visual.png\" width=500>\n",
    "\n",
    "#### _Hướng giải quyết:_\n",
    "* Sử dụng thuật toán DFS (Deep First Search) để đi dến hết các vị trí trên bàn cờ.\n",
    "* Nếu con Mã đi vào một vị trí mà nó không thể đi tiếp (tức là những điểm nó có thể đi từ điểm hiện tại đã được đặt chân đến rồi) thì quay lại vị trí trước đó và lựa chọn con đường khác.\n",
    "* Việc lặp lại này sẽ diễn ra liên tục cho đến khi tất cả các điểm trên bàn cờ được đi tới.\n",
    "\n",
    "### _Ví dụ về bàn cờ 8x8_\n",
    "\n",
    "<img src=\"https://raw.githubusercontent.com/bangoc123/learn-machine-learning-in-two-months/master/algorithms/imgs/8*8.png\" width=500>\n",
    "\n"
   ]
  },
  {
   "cell_type": "markdown",
   "metadata": {},
   "source": [
    "**Thuật toán Naive**\n",
    "\n",
    "Tạo tất cả các đường đi có thể và kiểm tra xem có thỏa mãn rảng buộc hay không.\n",
    "\n",
    "`while there are untried tours\n",
    "{ \n",
    "   generate the next tour \n",
    "   if this tour covers all squares \n",
    "   { \n",
    "      print this path;\n",
    "   }\n",
    "}`"
   ]
  },
  {
   "cell_type": "markdown",
   "metadata": {},
   "source": [
    "**Thuật toán Backtracking**\n",
    "\n",
    "`If all squares are visited \n",
    "    print the solution\n",
    "Else\n",
    "   a) Add one of the next moves to solution vector and recursively \n",
    "   check if this move leads to a solution. (A Knight can make maximum \n",
    "   eight moves. We choose one of the 8 moves in this step).\n",
    "   b) If the move chosen in the above step doesn't lead to a solution\n",
    "   then remove this move from the solution vector and try other \n",
    "   alternative moves.\n",
    "   c) If none of the alternatives work then return false (Returning false \n",
    "   will remove the previously added item in recursion and if false is \n",
    "   returned by the initial call of recursion then \"no solution exists\" )`"
   ]
  },
  {
   "cell_type": "code",
   "execution_count": 2,
   "metadata": {},
   "outputs": [],
   "source": [
    "n = 8"
   ]
  },
  {
   "cell_type": "code",
   "execution_count": 6,
   "metadata": {},
   "outputs": [],
   "source": [
    "def isSafe(x, y, board):\n",
    "    '''\n",
    "       A utility function to check if i,j are valid indexes  \n",
    "       for N*N chessboard\n",
    "    ''' \n",
    "    if(x>=0 and y>=0 and x<n and y<n and board[x][y]==-1):\n",
    "        return True\n",
    "    return False"
   ]
  },
  {
   "cell_type": "code",
   "execution_count": 8,
   "metadata": {},
   "outputs": [],
   "source": [
    "def printSolution(board):\n",
    "    '''\n",
    "        A utility function to print Chessboard matrix\n",
    "    '''\n",
    "    for i in range(n):\n",
    "        for j in range(n):\n",
    "            print(board[i][j], end=' ')\n",
    "        print()"
   ]
  },
  {
   "cell_type": "markdown",
   "metadata": {},
   "source": [
    "**Thiết kế đường đi cho con mã**\n",
    "\n",
    "- `board`mảng để lưu vị trí đường đi của con mã (ban đầu các giá trị đều = -1)-ma trận bàn cờ\n",
    "\n",
    "- `move_x`, `move_y`: vị trí cột, hàng của con mã trên ma trận bàn cờ --> Một trong 2 vị trí này sẽ thay phiên nhau thay đổi 1 và 2 (-1, -2)\n",
    "\n",
    "    Ví dụ: \n",
    "    <img src=\"https://raw.githubusercontent.com/bangoc123/learn-machine-learning-in-two-months/master/algorithms/imgs/godemo.png\" width=250>\n",
    "    \n",
    "    Giả sử vị trí con Mã hiện tại (X) `curr_x = (x,y)` thì vị trí tiếp theo sẽ là `(x+2, y-1)`.\n",
    "    \n",
    "    Dựa vào tính chất trên ta có thể liệt kê nhiều nhất 8 điểm mà một có Mã có thể đi được từ 1 điểm hiện tại đến một điểm trong bàn cờ như sau\n",
    "    \n",
    "    `move_x = [2,1,-1,-2,-2,-1,1,2]`\n",
    "    \n",
    "    `move_y = [1,2,2,1,-1,-2,-2,-1]`    \n",
    "    "
   ]
  },
  {
   "cell_type": "code",
   "execution_count": 9,
   "metadata": {},
   "outputs": [],
   "source": [
    "def solveKT():\n",
    "    '''\n",
    "        This function solves the Knight Tour problem using  \n",
    "        Backtracking. This function mainly uses solveKTUtil()  \n",
    "        to solve the problem. It returns false if no complete  \n",
    "        tour is possible, otherwise return true and prints the  \n",
    "        tour.  \n",
    "        Please note that there may be more than one solutions,  \n",
    "        this function prints one of the feasible solutions.\n",
    "    '''\n",
    "    \n",
    "    #Initialization of Board matrix all element=-1\n",
    "    board = [[-1 for i in range(n)] for i in range(n)]\n",
    "    \n",
    "    #move_x and move_y define next move of Knight\n",
    "    #move_x is foe next value of x coordinate\n",
    "    #move_y is for next value of y coordinate\n",
    "    move_x = [2,1,-1,-2,-2,-1,1,2]\n",
    "    move_y = [1,2,2,1,-1,-2,-2,-1]\n",
    "    \n",
    "    #Since the Knight is initially at the first block\n",
    "    board[0][0] = 0\n",
    "    \n",
    "    #Step counter for Knight's position\n",
    "    pos = 1\n",
    "    \n",
    "    #Checking if solution exists or not\n",
    "    if(not solveKTUtil(board, 0, 0, move_x, move_y, pos)):\n",
    "        print(\"Solution does not exist\")\n",
    "    else:\n",
    "        printSolution(board)"
   ]
  },
  {
   "cell_type": "code",
   "execution_count": null,
   "metadata": {},
   "outputs": [],
   "source": [
    "def solveKTUtil(board, curr_x, curr_y, move_x, move_y, pos):\n",
    "    '''\n",
    "       A recursive utility function to solve Knight Tour  \n",
    "       problem  \n",
    "    '''\n",
    "    if(pos == n**2):\n",
    "        return True\n",
    "    \n",
    "    #Try all next moves from the current coordinate x, y\n",
    "    for i in range(8):\n",
    "        new_x = curr_x + move_x[i]\n",
    "        new_y = curr_y + move_y[i]\n",
    "        if(isSafe(new_x, new_y, board)):\n",
    "            board[new_x][new_y] = pos\n",
    "            if(solveKTUtil(board, new_x, new_y, move_x, move_y, pos+1)):\n",
    "                return True\n",
    "            \n",
    "            #Backtracking\n",
    "            board[new_x][new_y] = -1\n",
    "            \n",
    "    return False"
   ]
  },
  {
   "cell_type": "code",
   "execution_count": 7,
   "metadata": {},
   "outputs": [
    {
     "name": "stdout",
     "output_type": "stream",
     "text": [
      "0 59 38 33 30 17 8 63 \n",
      "37 34 31 60 9 62 29 16 \n",
      "58 1 36 39 32 27 18 7 \n",
      "35 48 41 26 61 10 15 28 \n",
      "42 57 2 49 40 23 6 19 \n",
      "47 50 45 54 25 20 11 14 \n",
      "56 43 52 3 22 13 24 5 \n",
      "51 46 55 44 53 4 21 12 \n"
     ]
    }
   ],
   "source": [
    "#Driver program to test above function\n",
    "if __name__ == \"__main__\":\n",
    "    solveKT()"
   ]
  },
  {
   "cell_type": "markdown",
   "metadata": {},
   "source": [
    "#### Tham khảo: \n",
    "https://github.com/bangoc123/learn-machine-learning-in-two-months/blob/master/algorithms/graph/backtracking/backtracking.MD\n",
    "\n",
    "https://www.geeksforgeeks.org/backtracking-algorithms/"
   ]
  },
  {
   "cell_type": "code",
   "execution_count": null,
   "metadata": {},
   "outputs": [],
   "source": []
  }
 ],
 "metadata": {
  "kernelspec": {
   "display_name": "Python 3",
   "language": "python",
   "name": "python3"
  },
  "language_info": {
   "codemirror_mode": {
    "name": "ipython",
    "version": 3
   },
   "file_extension": ".py",
   "mimetype": "text/x-python",
   "name": "python",
   "nbconvert_exporter": "python",
   "pygments_lexer": "ipython3",
   "version": "3.7.3"
  }
 },
 "nbformat": 4,
 "nbformat_minor": 2
}
