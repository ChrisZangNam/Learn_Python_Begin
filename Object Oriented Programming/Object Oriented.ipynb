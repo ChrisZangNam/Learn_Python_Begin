{
 "cells": [
  {
   "cell_type": "markdown",
   "metadata": {},
   "source": [
    "# Object Oriented - Hướng đối tượng trong Python\n",
    "\n",
    "Python là một ngôn ngữ hướng đối tượng. Do đó khởi tạo và sử dụng classes và objects khá dễ dàng.\n",
    "\n",
    "\n",
    "\n",
    "## 1. Creating Classes \n",
    "```Python\n",
    "class Class_Name:\n",
    "    'Optinal class documentation string'\n",
    "    class_suite \n",
    "```\n",
    "- Một lớp có thể ó documentation string - tài liệu cho lớp, được truy cập thông qua `ClassName.__doc__`\n",
    "- `class_suite` bao gồm tất các các câu lệnh thành phần giúp define các thành phần của lớp, data attributes và functions.\n",
    "\n",
    "*Example*:\n"
   ]
  },
  {
   "cell_type": "code",
   "execution_count": 1,
   "metadata": {},
   "outputs": [],
   "source": [
    "class Employee:\n",
    "    'common base class for all employees'\n",
    "    empCount = 0\n",
    "    \n",
    "    def __init__(self, name, salary):\n",
    "        self.name = name\n",
    "        self.salary = salary\n",
    "        Employee.empCount += 1\n",
    "        \n",
    "    def displayCount(self):\n",
    "        print(\"Total employees %d\" %Employee.empCount)\n",
    "    \n",
    "    def displayEmployee(self):\n",
    "        print(f\"Name: {self.name}, Salary: {self.salary}\")"
   ]
  },
  {
   "cell_type": "markdown",
   "metadata": {},
   "source": [
    "- `empcount`: biến được dùng chung của toàn bộ lớp, được truye cập qua Employee.empCount\n",
    "- `__init__()` method: phương thức đặt biệt dùng khi khởi tạo lớp. Python sẽ gọi tới khi tạo một đối tượng của lớp.\n",
    "- Các phương thức của lớp khác được thêm đối số `self`và không cần truyền khi gọi phương thức.\n",
    "\n",
    "### Creating Instance Object"
   ]
  },
  {
   "cell_type": "code",
   "execution_count": 2,
   "metadata": {},
   "outputs": [],
   "source": [
    "emp1 = Employee(\"Zara\", 2200)\n",
    "emp2 = Employee(\"Philip\", 3000)\n",
    "emp3 = Employee(\"Vadace\", 5000)"
   ]
  },
  {
   "cell_type": "markdown",
   "metadata": {},
   "source": [
    "### Accessing attributes"
   ]
  },
  {
   "cell_type": "code",
   "execution_count": 4,
   "metadata": {},
   "outputs": [
    {
     "name": "stdout",
     "output_type": "stream",
     "text": [
      "Name: Zara, Salary: 2200\n",
      "Name: Philip, Salary: 3000\n",
      "Name: Vadace, Salary: 5000\n",
      "Total Employee is 3.\n"
     ]
    }
   ],
   "source": [
    "emp1.displayEmployee()\n",
    "emp2.displayEmployee()\n",
    "emp3.displayEmployee()\n",
    "\n",
    "print(\"Total Employee is %d.\" %Employee.empCount)"
   ]
  },
  {
   "cell_type": "code",
   "execution_count": 9,
   "metadata": {},
   "outputs": [],
   "source": [
    "#we can add, remove. modify attributes and object\n",
    "emp1.age =32\n",
    "emp1.age = 40\n",
    "# del emp1.age #delete atrribute age\n",
    "\n",
    "#OR\n",
    "hasattr(emp1, 'age') #return true if 'age' exists\n",
    "getattr(emp1, 'age') #return values of 'age' attribute\n",
    "setattr(emp1, 'age', 30) #set atrribute 'age' = 30\n",
    "delattr(emp1, 'age') #delete attribute 'age'"
   ]
  },
  {
   "cell_type": "markdown",
   "metadata": {},
   "source": [
    "**Các thuộc tính có sẵn trong Python**\n",
    "- `__dict__`:Từ điển chưa không gian tên của lớp\n",
    "- `__doc__`: Xâu chưa tài liệu của lớp.\n",
    "- `__name__`: tên class\n",
    "- `__module__`: tên module được lớp định nghĩa. Thuộc tính này là `__main__` khi ở chế độ interactive\n",
    "- `__base__`: Tuple trống chưa các lớp cơ sở, xếp theo thứ tự xuất hiện của chungs trong lớp."
   ]
  },
  {
   "cell_type": "code",
   "execution_count": 11,
   "metadata": {},
   "outputs": [
    {
     "name": "stdout",
     "output_type": "stream",
     "text": [
      "Employee.__doc__: common base class for all employees\n",
      "Employee.__name__: Employee\n",
      "Employee.__module__: __main__\n",
      "Employee.__bases__: (<class 'object'>,)\n",
      "Employee.__dict__: {'__module__': '__main__', '__doc__': 'common base class for all employees', 'empCount': 3, '__init__': <function Employee.__init__ at 0x7f484ecc2040>, 'displayCount': <function Employee.displayCount at 0x7f484ecc2dc0>, 'displayEmployee': <function Employee.displayEmployee at 0x7f484ecc2e50>, '__dict__': <attribute '__dict__' of 'Employee' objects>, '__weakref__': <attribute '__weakref__' of 'Employee' objects>}\n"
     ]
    }
   ],
   "source": [
    "print (\"Employee.__doc__:\", Employee.__doc__)\n",
    "print (\"Employee.__name__:\", Employee.__name__)\n",
    "print (\"Employee.__module__:\", Employee.__module__)\n",
    "print (\"Employee.__bases__:\", Employee.__bases__)\n",
    "print (\"Employee.__dict__:\", Employee.__dict__)"
   ]
  },
  {
   "cell_type": "markdown",
   "metadata": {},
   "source": [
    "## 2. Class Inheritance - Kế thừa\n",
    "\n",
    "Cú pháp:\n",
    "```Python\n",
    "class subClassName(parentClass1[, parentClass2,...]):\n",
    "    'Optional class documentation string'\n",
    "    class_suite\n",
    "```"
   ]
  },
  {
   "cell_type": "code",
   "execution_count": 25,
   "metadata": {},
   "outputs": [],
   "source": [
    "class Parent:\n",
    "    parentAttr = 100\n",
    "    def __init__(self):\n",
    "        print(\"Calling parent constructor\")\n",
    "        \n",
    "    def parentMethod(self):\n",
    "        print(\"Calling parent method\")\n",
    "        \n",
    "    def setAtrrt(self, attr):\n",
    "        Parent.parentAttr = attr\n",
    "            \n",
    "    def getAttr(self):\n",
    "        print(\"Parent attribute: \", Parent.parentAttr)"
   ]
  },
  {
   "cell_type": "code",
   "execution_count": 26,
   "metadata": {},
   "outputs": [],
   "source": [
    "class Child(Parent):\n",
    "    def __init__(self):\n",
    "        print(\"Calling child constructor\")\n",
    "    \n",
    "    def childMethod(self):\n",
    "        print(\"Calling child method\")"
   ]
  },
  {
   "cell_type": "code",
   "execution_count": 27,
   "metadata": {},
   "outputs": [
    {
     "name": "stdout",
     "output_type": "stream",
     "text": [
      "Calling child constructor\n"
     ]
    }
   ],
   "source": [
    "c = Child()"
   ]
  },
  {
   "cell_type": "code",
   "execution_count": 28,
   "metadata": {},
   "outputs": [
    {
     "name": "stdout",
     "output_type": "stream",
     "text": [
      "Calling child method\n"
     ]
    }
   ],
   "source": [
    "c.childMethod()"
   ]
  },
  {
   "cell_type": "code",
   "execution_count": 29,
   "metadata": {},
   "outputs": [
    {
     "name": "stdout",
     "output_type": "stream",
     "text": [
      "Calling parent method\n"
     ]
    }
   ],
   "source": [
    "c.parentMethod()"
   ]
  },
  {
   "cell_type": "code",
   "execution_count": 30,
   "metadata": {},
   "outputs": [],
   "source": [
    "c.setAtrrt(200)"
   ]
  },
  {
   "cell_type": "code",
   "execution_count": 31,
   "metadata": {},
   "outputs": [
    {
     "name": "stdout",
     "output_type": "stream",
     "text": [
      "Parent attribute:  200\n"
     ]
    }
   ],
   "source": [
    "c.getAttr()"
   ]
  },
  {
   "cell_type": "markdown",
   "metadata": {},
   "source": [
    "Có thể sử dụng **subclass() và isinstance()** để kiểm tra mối quan hệ của 2 lớp và instance."
   ]
  },
  {
   "cell_type": "code",
   "execution_count": 32,
   "metadata": {},
   "outputs": [
    {
     "data": {
      "text/plain": [
       "True"
      ]
     },
     "execution_count": 32,
     "metadata": {},
     "output_type": "execute_result"
    }
   ],
   "source": [
    "issubclass(Child, Parent)"
   ]
  },
  {
   "cell_type": "code",
   "execution_count": 33,
   "metadata": {},
   "outputs": [
    {
     "data": {
      "text/plain": [
       "True"
      ]
     },
     "execution_count": 33,
     "metadata": {},
     "output_type": "execute_result"
    }
   ],
   "source": [
    "isinstance(c, Child)"
   ]
  },
  {
   "cell_type": "code",
   "execution_count": 34,
   "metadata": {},
   "outputs": [
    {
     "data": {
      "text/plain": [
       "True"
      ]
     },
     "execution_count": 34,
     "metadata": {},
     "output_type": "execute_result"
    }
   ],
   "source": [
    "isinstance(c, Parent)"
   ]
  },
  {
   "cell_type": "markdown",
   "metadata": {},
   "source": [
    "## 3. Overriding Methods\n"
   ]
  },
  {
   "cell_type": "code",
   "execution_count": 35,
   "metadata": {},
   "outputs": [],
   "source": [
    "class Parent:\n",
    "    def myMethod(self):\n",
    "        print(\"calling parent method\")\n",
    "        \n",
    "class Child(Parent):\n",
    "    def myMethod(self):\n",
    "        print(\"calling child method\")"
   ]
  },
  {
   "cell_type": "code",
   "execution_count": 36,
   "metadata": {},
   "outputs": [],
   "source": [
    "c = Child()"
   ]
  },
  {
   "cell_type": "code",
   "execution_count": 37,
   "metadata": {},
   "outputs": [
    {
     "name": "stdout",
     "output_type": "stream",
     "text": [
      "calling child method\n"
     ]
    }
   ],
   "source": [
    "c.myMethod()"
   ]
  },
  {
   "cell_type": "markdown",
   "metadata": {},
   "source": [
    "## 4. Overloading Method\n",
    "\n",
    "**Base Overloading methods**:\n",
    "\n",
    "|Sr.No.|Medhod, Description, Sample Call|\n",
    "|------|--------------------------------|\n",
    "|1     |**__init__(self[,args,...])**   |\n",
    "|      |Constructor: Hàm tạo            |\n",
    "|2     |**__del__(self)**               |\n",
    "|      |Destructor: xóa một đối tượng   |\n",
    "|3     |**__repr__(self)**              |\n",
    "|      |Biểu diễn chuỗi có giá trị      |\n",
    "|4     |**__str__(self)**               |\n",
    "|      |Print biểu diễn chuỗi           |\n",
    "|5     |**__cmp__(self, x)**            |\n",
    "|      |So sánh đối tượng               |"
   ]
  },
  {
   "cell_type": "code",
   "execution_count": 38,
   "metadata": {},
   "outputs": [],
   "source": [
    "class Vector:\n",
    "    def __init__(self, a, b):\n",
    "        self.a = a\n",
    "        self.b = b\n",
    "        \n",
    "    def __str__(self):\n",
    "        return \"Vector (%d, %d)\" %(self.a, self.b)\n",
    "    \n",
    "    def __add__(self, other):\n",
    "        return Vector(self.a + other.a, self.b + other.b)"
   ]
  },
  {
   "cell_type": "code",
   "execution_count": 39,
   "metadata": {},
   "outputs": [],
   "source": [
    "v1 = Vector(3,4)\n",
    "v2 = Vector(5,6)"
   ]
  },
  {
   "cell_type": "code",
   "execution_count": 41,
   "metadata": {},
   "outputs": [
    {
     "name": "stdout",
     "output_type": "stream",
     "text": [
      "Vector (3, 4)\n",
      "Vector (5, 6)\n",
      "Vector (8, 10)\n"
     ]
    }
   ],
   "source": [
    "print(v1)\n",
    "print(v2)\n",
    "print(v1 + v2)"
   ]
  },
  {
   "cell_type": "code",
   "execution_count": null,
   "metadata": {},
   "outputs": [],
   "source": []
  }
 ],
 "metadata": {
  "kernelspec": {
   "display_name": "Python 3",
   "language": "python",
   "name": "python3"
  },
  "language_info": {
   "codemirror_mode": {
    "name": "ipython",
    "version": 3
   },
   "file_extension": ".py",
   "mimetype": "text/x-python",
   "name": "python",
   "nbconvert_exporter": "python",
   "pygments_lexer": "ipython3",
   "version": "3.8.3"
  }
 },
 "nbformat": 4,
 "nbformat_minor": 4
}
