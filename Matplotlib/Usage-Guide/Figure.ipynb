{
 "cells": [
  {
   "cell_type": "markdown",
   "metadata": {},
   "source": [
    "#Figure\n",
    "\n"
   ]
  },
  {
   "cell_type": "markdown",
   "metadata": {},
   "source": [
    "##1. Khái niệm Figure\n"
   ]
  },
  {
   "cell_type": "markdown",
   "metadata": {},
   "source": [
    "Một figure như ta thường thấy là một đối tượng của lớp figure trong thư viện matplotlib. Lớp figure được định nghĩa trong module matplotlib.figure, lớp này chứa tất cả những thành phần của một hình vẽ (top level container for all plot elements). \n",
    "Tức là mọi thuộc tính, phương thức của hình vẽ đều được định nghĩa trong lớp này."
   ]
  },
  {
   "cell_type": "markdown",
   "metadata": {},
   "source": [
    "##2. Các thành phần của Figure\n"
   ]
  },
  {
   "cell_type": "markdown",
   "metadata": {},
   "source": [
    "Thành phần chính của một figure là các axes (những khung nhỏ hơn để vẽ hình lên đó). Một figure có thể chứa một hoặc nhiều axes . \n",
    "Nói cách khác, figure chỉ là khung chứa, chính các axes mới thật sự là nơi các hình vẽ được vẽ lên.\n",
    "\n",
    "Theo ngôn ngữ đối tượng thì: figure có một thuộc tính kiểu list gọi là axes. Danh sách này chứa các axes của figure đó. Mỗi axes là một đối tượng của lớp Axes (lớp này được định nghĩa trong module matplotlib.axes). Mỗi axes có thể chứa một hoặc nhiều hình vẽ (plots).\n",
    "\n",
    "Như vậy, các phần tử như: đường vẽ (plots), các điểm chia (ticks), tên của các trục tọa độ (xlabel, ylabel),… đều là con của axes chứ không phải là của figure. Vì thế, sẽ không có những methods gọi từ figure kiểu như:\n",
    "\n",
    "fig.plot()\n",
    "fig.get_xlabel()\n",
    "fig.set_xticks()\n",
    "…\n",
    "Sau đây là ví dụ của một figure có nhiều axes chồng chéo nhau\n",
    "\n",
    "[title](img/figure1.png)\n",
    "\n"
   ]
  },
  {
   "cell_type": "markdown",
   "metadata": {},
   "source": [
    "##3. Một số thuộc tính khác của Figure\n"
   ]
  },
  {
   "cell_type": "markdown",
   "metadata": {},
   "source": [
    "   _a. `figsize`_\n",
    "\n",
    "Thuộc tính nàu quy định kích thước của sổ figure(theo đơn vị inch).\n",
    "Ví dụ"
   ]
  },
  {
   "cell_type": "code",
   "execution_count": null,
   "metadata": {},
   "outputs": [],
   "source": [
    "fig4 = plt.figure(u'Figure kích thước 6x4 inch', figsize=(6,4))\n",
    "fig5 = plt.figure(u'Figure kích thước 4x3 inch', figsize=(4,3))"
   ]
  },
  {
   "cell_type": "markdown",
   "metadata": {},
   "source": [
    "[title](img/fig4.png)\n",
    "[title](img/fig5.png)"
   ]
  },
  {
   "cell_type": "markdown",
   "metadata": {},
   "source": [
    "   _b. `edgecolor` và `linewidth`_\n",
    "\n",
    "..* `edgecolor` : Quy định màu của khung viền bao quanh tất cae các axes trong figure\n",
    "..* `linewidth` : Quy địn độ dày khung viền \n",
    "..* `facecolor` : Quy định màu nền của figure\n",
    "..* Mặc định:\n",
    "    ...... `edgecolor='w'`, `linewidth=0`, `facecolor='w'"
   ]
  },
  {
   "cell_type": "markdown",
   "metadata": {},
   "source": [
    "##4. Xóa nội dung một figure\n",
    "\n",
    "Co 3 cách để xóa nội dung một figure như sau:\n",
    "\n",
    "..* `fig.clf()`\n",
    "..* `clear()`\n",
    "..* `plt.clf()`\n",
    "\n",
    "Cách 1 và 2 hoàn toàn giống nhau. Cách thứ 3 chỉ có tác dụng khi `fig` đang active"
   ]
  },
  {
   "cell_type": "markdown",
   "metadata": {},
   "source": [
    "##5. Tài liệu tham khảo\n",
    "\n",
    "   [Matplotlib: Những điều cần biết để tùy chỉnh Figure như ý muốn]( https://texmath.com/matplotlib-nhung-lenh-can-biet-de-tuy-chinh-figure-nhu-y-muon/ )\n"
   ]
  }
 ],
 "metadata": {
  "kernelspec": {
   "display_name": "Python 3",
   "language": "python",
   "name": "python3"
  },
  "language_info": {
   "codemirror_mode": {
    "name": "ipython",
    "version": 3
   },
   "file_extension": ".py",
   "mimetype": "text/x-python",
   "name": "python",
   "nbconvert_exporter": "python",
   "pygments_lexer": "ipython3",
   "version": "3.6.8"
  }
 },
 "nbformat": 4,
 "nbformat_minor": 2
}
